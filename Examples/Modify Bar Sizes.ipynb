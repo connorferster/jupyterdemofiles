{
 "cells": [
  {
   "cell_type": "markdown",
   "id": "cbf510d6-9161-4dd4-ab56-0b424fa8a6e2",
   "metadata": {},
   "source": [
    "Run the cells from top to bottom"
   ]
  },
  {
   "cell_type": "code",
   "execution_count": null,
   "id": "84afe0d1-ba65-479b-8371-aedf3065c036",
   "metadata": {},
   "outputs": [],
   "source": [
    "import pathlib"
   ]
  },
  {
   "cell_type": "markdown",
   "id": "74ff2d4e-440e-4125-8ffc-166ab92fffc1",
   "metadata": {},
   "source": [
    "## Opening an spColumn `.cti` file and making modified copies"
   ]
  },
  {
   "cell_type": "code",
   "execution_count": null,
   "id": "dc9593ac-d427-440d-9f2e-6ca716576343",
   "metadata": {},
   "outputs": [],
   "source": [
    "my_file = pathlib.Path(\"my_col.cti\")\n",
    "my_file.exists()"
   ]
  },
  {
   "cell_type": "markdown",
   "id": "03a313f1-e52c-4917-a8cf-1a23a6e6fe68",
   "metadata": {},
   "source": [
    "## Select a new bar area"
   ]
  },
  {
   "cell_type": "code",
   "execution_count": null,
   "id": "d8444e8b-5857-4747-97c5-f3a21a9356b4",
   "metadata": {},
   "outputs": [],
   "source": [
    "new_area = 700 #mm2"
   ]
  },
  {
   "cell_type": "markdown",
   "id": "1347fa5b-3f3e-4cfb-bef8-79fbdadf42fb",
   "metadata": {},
   "source": [
    "### Run the cell below to make a new spColumn `.cti` file with the new bar area"
   ]
  },
  {
   "cell_type": "code",
   "execution_count": null,
   "id": "720bcdc4-9df9-44fe-8f2d-391aa979b10a",
   "metadata": {},
   "outputs": [],
   "source": [
    "new_file = my_file\n",
    "new_file_name = my_file.stem + f\"_{new_area}\" + my_file.suffix\n",
    "with open(my_file) as base_file, open(new_file_name, 'w') as new_file:\n",
    "    in_bars_section = False\n",
    "    for line in base_file.readlines():\n",
    "        if \"Reinforcement Bars\" in line:\n",
    "            in_bars_section = True\n",
    "        elif \"Factored Loads\" in line:\n",
    "            in_bars_section = False\n",
    "        elif in_bars_section and \",\" in line:\n",
    "            area, x, y = line.split(\",\")\n",
    "            line = \",\".join([str(new_area), x, y])\n",
    "        new_file.write(line)\n",
    "print(f\"{new_file_name} written\")"
   ]
  },
  {
   "cell_type": "code",
   "execution_count": null,
   "id": "26a55c55-7415-4852-aca0-4150171c07e0",
   "metadata": {},
   "outputs": [],
   "source": []
  }
 ],
 "metadata": {
  "kernelspec": {
   "display_name": "Python 3 (ipykernel)",
   "language": "python",
   "name": "python3"
  },
  "language_info": {
   "codemirror_mode": {
    "name": "ipython",
    "version": 3
   },
   "file_extension": ".py",
   "mimetype": "text/x-python",
   "name": "python",
   "nbconvert_exporter": "python",
   "pygments_lexer": "ipython3",
   "version": "3.9.7"
  }
 },
 "nbformat": 4,
 "nbformat_minor": 5
}
